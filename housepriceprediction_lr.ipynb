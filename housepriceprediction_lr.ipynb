{
  "nbformat": 4,
  "nbformat_minor": 0,
  "metadata": {
    "colab": {
      "provenance": [],
      "authorship_tag": "ABX9TyOXAI+mQFbDK8luqMoDymdY",
      "include_colab_link": true
    },
    "kernelspec": {
      "name": "python3",
      "display_name": "Python 3"
    },
    "language_info": {
      "name": "python"
    }
  },
  "cells": [
    {
      "cell_type": "markdown",
      "metadata": {
        "id": "view-in-github",
        "colab_type": "text"
      },
      "source": [
        "<a href=\"https://colab.research.google.com/github/akshats13/House-Prediction-in-Pytorch/blob/main/housepriceprediction_lr.ipynb\" target=\"_parent\"><img src=\"https://colab.research.google.com/assets/colab-badge.svg\" alt=\"Open In Colab\"/></a>"
      ]
    },
    {
      "cell_type": "code",
      "execution_count": 33,
      "metadata": {
        "id": "b8uQEyZT5S8K"
      },
      "outputs": [],
      "source": [
        "import pandas as pd\n",
        "import numpy as np"
      ]
    },
    {
      "cell_type": "markdown",
      "source": [],
      "metadata": {
        "id": "MDeu5Y3J-VmD"
      }
    },
    {
      "cell_type": "code",
      "source": [
        "df = pd.read_csv(\"houseprice.csv\",usecols=[\"SalePrice\",\"MSSubClass\",\"MSZoning\",\"LotFrontage\",\"LotArea\",\"Street\",\"YearBuilt\",\"LotShape\",\"1stFlrSF\",\"2ndFlrSF\"]).dropna()"
      ],
      "metadata": {
        "id": "0uZ_4dy-9_95"
      },
      "execution_count": 8,
      "outputs": []
    },
    {
      "cell_type": "code",
      "source": [
        "df.shape"
      ],
      "metadata": {
        "colab": {
          "base_uri": "https://localhost:8080/"
        },
        "id": "ggEcjF0o-xvT",
        "outputId": "f319af0d-6bc6-4116-8824-8d660384ad87"
      },
      "execution_count": 10,
      "outputs": [
        {
          "output_type": "execute_result",
          "data": {
            "text/plain": [
              "(1201, 10)"
            ]
          },
          "metadata": {},
          "execution_count": 10
        }
      ]
    },
    {
      "cell_type": "code",
      "source": [
        "df.head()"
      ],
      "metadata": {
        "colab": {
          "base_uri": "https://localhost:8080/",
          "height": 226
        },
        "id": "6HN5fCIQ_Ia0",
        "outputId": "c64a8172-c2cc-4f5e-f2a7-740f0d53e647"
      },
      "execution_count": 11,
      "outputs": [
        {
          "output_type": "execute_result",
          "data": {
            "text/plain": [
              "   MSSubClass MSZoning  LotFrontage  LotArea Street LotShape  YearBuilt  \\\n",
              "0          60       RL         65.0     8450   Pave      Reg       2003   \n",
              "1          20       RL         80.0     9600   Pave      Reg       1976   \n",
              "2          60       RL         68.0    11250   Pave      IR1       2001   \n",
              "3          70       RL         60.0     9550   Pave      IR1       1915   \n",
              "4          60       RL         84.0    14260   Pave      IR1       2000   \n",
              "\n",
              "   1stFlrSF  2ndFlrSF  SalePrice  \n",
              "0       856       854     208500  \n",
              "1      1262         0     181500  \n",
              "2       920       866     223500  \n",
              "3       961       756     140000  \n",
              "4      1145      1053     250000  "
            ],
            "text/html": [
              "\n",
              "  <div id=\"df-94963f44-35e3-4fa3-a884-21debedca89c\" class=\"colab-df-container\">\n",
              "    <div>\n",
              "<style scoped>\n",
              "    .dataframe tbody tr th:only-of-type {\n",
              "        vertical-align: middle;\n",
              "    }\n",
              "\n",
              "    .dataframe tbody tr th {\n",
              "        vertical-align: top;\n",
              "    }\n",
              "\n",
              "    .dataframe thead th {\n",
              "        text-align: right;\n",
              "    }\n",
              "</style>\n",
              "<table border=\"1\" class=\"dataframe\">\n",
              "  <thead>\n",
              "    <tr style=\"text-align: right;\">\n",
              "      <th></th>\n",
              "      <th>MSSubClass</th>\n",
              "      <th>MSZoning</th>\n",
              "      <th>LotFrontage</th>\n",
              "      <th>LotArea</th>\n",
              "      <th>Street</th>\n",
              "      <th>LotShape</th>\n",
              "      <th>YearBuilt</th>\n",
              "      <th>1stFlrSF</th>\n",
              "      <th>2ndFlrSF</th>\n",
              "      <th>SalePrice</th>\n",
              "    </tr>\n",
              "  </thead>\n",
              "  <tbody>\n",
              "    <tr>\n",
              "      <th>0</th>\n",
              "      <td>60</td>\n",
              "      <td>RL</td>\n",
              "      <td>65.0</td>\n",
              "      <td>8450</td>\n",
              "      <td>Pave</td>\n",
              "      <td>Reg</td>\n",
              "      <td>2003</td>\n",
              "      <td>856</td>\n",
              "      <td>854</td>\n",
              "      <td>208500</td>\n",
              "    </tr>\n",
              "    <tr>\n",
              "      <th>1</th>\n",
              "      <td>20</td>\n",
              "      <td>RL</td>\n",
              "      <td>80.0</td>\n",
              "      <td>9600</td>\n",
              "      <td>Pave</td>\n",
              "      <td>Reg</td>\n",
              "      <td>1976</td>\n",
              "      <td>1262</td>\n",
              "      <td>0</td>\n",
              "      <td>181500</td>\n",
              "    </tr>\n",
              "    <tr>\n",
              "      <th>2</th>\n",
              "      <td>60</td>\n",
              "      <td>RL</td>\n",
              "      <td>68.0</td>\n",
              "      <td>11250</td>\n",
              "      <td>Pave</td>\n",
              "      <td>IR1</td>\n",
              "      <td>2001</td>\n",
              "      <td>920</td>\n",
              "      <td>866</td>\n",
              "      <td>223500</td>\n",
              "    </tr>\n",
              "    <tr>\n",
              "      <th>3</th>\n",
              "      <td>70</td>\n",
              "      <td>RL</td>\n",
              "      <td>60.0</td>\n",
              "      <td>9550</td>\n",
              "      <td>Pave</td>\n",
              "      <td>IR1</td>\n",
              "      <td>1915</td>\n",
              "      <td>961</td>\n",
              "      <td>756</td>\n",
              "      <td>140000</td>\n",
              "    </tr>\n",
              "    <tr>\n",
              "      <th>4</th>\n",
              "      <td>60</td>\n",
              "      <td>RL</td>\n",
              "      <td>84.0</td>\n",
              "      <td>14260</td>\n",
              "      <td>Pave</td>\n",
              "      <td>IR1</td>\n",
              "      <td>2000</td>\n",
              "      <td>1145</td>\n",
              "      <td>1053</td>\n",
              "      <td>250000</td>\n",
              "    </tr>\n",
              "  </tbody>\n",
              "</table>\n",
              "</div>\n",
              "    <div class=\"colab-df-buttons\">\n",
              "\n",
              "  <div class=\"colab-df-container\">\n",
              "    <button class=\"colab-df-convert\" onclick=\"convertToInteractive('df-94963f44-35e3-4fa3-a884-21debedca89c')\"\n",
              "            title=\"Convert this dataframe to an interactive table.\"\n",
              "            style=\"display:none;\">\n",
              "\n",
              "  <svg xmlns=\"http://www.w3.org/2000/svg\" height=\"24px\" viewBox=\"0 -960 960 960\">\n",
              "    <path d=\"M120-120v-720h720v720H120Zm60-500h600v-160H180v160Zm220 220h160v-160H400v160Zm0 220h160v-160H400v160ZM180-400h160v-160H180v160Zm440 0h160v-160H620v160ZM180-180h160v-160H180v160Zm440 0h160v-160H620v160Z\"/>\n",
              "  </svg>\n",
              "    </button>\n",
              "\n",
              "  <style>\n",
              "    .colab-df-container {\n",
              "      display:flex;\n",
              "      gap: 12px;\n",
              "    }\n",
              "\n",
              "    .colab-df-convert {\n",
              "      background-color: #E8F0FE;\n",
              "      border: none;\n",
              "      border-radius: 50%;\n",
              "      cursor: pointer;\n",
              "      display: none;\n",
              "      fill: #1967D2;\n",
              "      height: 32px;\n",
              "      padding: 0 0 0 0;\n",
              "      width: 32px;\n",
              "    }\n",
              "\n",
              "    .colab-df-convert:hover {\n",
              "      background-color: #E2EBFA;\n",
              "      box-shadow: 0px 1px 2px rgba(60, 64, 67, 0.3), 0px 1px 3px 1px rgba(60, 64, 67, 0.15);\n",
              "      fill: #174EA6;\n",
              "    }\n",
              "\n",
              "    .colab-df-buttons div {\n",
              "      margin-bottom: 4px;\n",
              "    }\n",
              "\n",
              "    [theme=dark] .colab-df-convert {\n",
              "      background-color: #3B4455;\n",
              "      fill: #D2E3FC;\n",
              "    }\n",
              "\n",
              "    [theme=dark] .colab-df-convert:hover {\n",
              "      background-color: #434B5C;\n",
              "      box-shadow: 0px 1px 3px 1px rgba(0, 0, 0, 0.15);\n",
              "      filter: drop-shadow(0px 1px 2px rgba(0, 0, 0, 0.3));\n",
              "      fill: #FFFFFF;\n",
              "    }\n",
              "  </style>\n",
              "\n",
              "    <script>\n",
              "      const buttonEl =\n",
              "        document.querySelector('#df-94963f44-35e3-4fa3-a884-21debedca89c button.colab-df-convert');\n",
              "      buttonEl.style.display =\n",
              "        google.colab.kernel.accessAllowed ? 'block' : 'none';\n",
              "\n",
              "      async function convertToInteractive(key) {\n",
              "        const element = document.querySelector('#df-94963f44-35e3-4fa3-a884-21debedca89c');\n",
              "        const dataTable =\n",
              "          await google.colab.kernel.invokeFunction('convertToInteractive',\n",
              "                                                    [key], {});\n",
              "        if (!dataTable) return;\n",
              "\n",
              "        const docLinkHtml = 'Like what you see? Visit the ' +\n",
              "          '<a target=\"_blank\" href=https://colab.research.google.com/notebooks/data_table.ipynb>data table notebook</a>'\n",
              "          + ' to learn more about interactive tables.';\n",
              "        element.innerHTML = '';\n",
              "        dataTable['output_type'] = 'display_data';\n",
              "        await google.colab.output.renderOutput(dataTable, element);\n",
              "        const docLink = document.createElement('div');\n",
              "        docLink.innerHTML = docLinkHtml;\n",
              "        element.appendChild(docLink);\n",
              "      }\n",
              "    </script>\n",
              "  </div>\n",
              "\n",
              "\n",
              "<div id=\"df-eec3df75-5f59-47c6-9bd5-4e81192ef85b\">\n",
              "  <button class=\"colab-df-quickchart\" onclick=\"quickchart('df-eec3df75-5f59-47c6-9bd5-4e81192ef85b')\"\n",
              "            title=\"Suggest charts\"\n",
              "            style=\"display:none;\">\n",
              "\n",
              "<svg xmlns=\"http://www.w3.org/2000/svg\" height=\"24px\"viewBox=\"0 0 24 24\"\n",
              "     width=\"24px\">\n",
              "    <g>\n",
              "        <path d=\"M19 3H5c-1.1 0-2 .9-2 2v14c0 1.1.9 2 2 2h14c1.1 0 2-.9 2-2V5c0-1.1-.9-2-2-2zM9 17H7v-7h2v7zm4 0h-2V7h2v10zm4 0h-2v-4h2v4z\"/>\n",
              "    </g>\n",
              "</svg>\n",
              "  </button>\n",
              "\n",
              "<style>\n",
              "  .colab-df-quickchart {\n",
              "      --bg-color: #E8F0FE;\n",
              "      --fill-color: #1967D2;\n",
              "      --hover-bg-color: #E2EBFA;\n",
              "      --hover-fill-color: #174EA6;\n",
              "      --disabled-fill-color: #AAA;\n",
              "      --disabled-bg-color: #DDD;\n",
              "  }\n",
              "\n",
              "  [theme=dark] .colab-df-quickchart {\n",
              "      --bg-color: #3B4455;\n",
              "      --fill-color: #D2E3FC;\n",
              "      --hover-bg-color: #434B5C;\n",
              "      --hover-fill-color: #FFFFFF;\n",
              "      --disabled-bg-color: #3B4455;\n",
              "      --disabled-fill-color: #666;\n",
              "  }\n",
              "\n",
              "  .colab-df-quickchart {\n",
              "    background-color: var(--bg-color);\n",
              "    border: none;\n",
              "    border-radius: 50%;\n",
              "    cursor: pointer;\n",
              "    display: none;\n",
              "    fill: var(--fill-color);\n",
              "    height: 32px;\n",
              "    padding: 0;\n",
              "    width: 32px;\n",
              "  }\n",
              "\n",
              "  .colab-df-quickchart:hover {\n",
              "    background-color: var(--hover-bg-color);\n",
              "    box-shadow: 0 1px 2px rgba(60, 64, 67, 0.3), 0 1px 3px 1px rgba(60, 64, 67, 0.15);\n",
              "    fill: var(--button-hover-fill-color);\n",
              "  }\n",
              "\n",
              "  .colab-df-quickchart-complete:disabled,\n",
              "  .colab-df-quickchart-complete:disabled:hover {\n",
              "    background-color: var(--disabled-bg-color);\n",
              "    fill: var(--disabled-fill-color);\n",
              "    box-shadow: none;\n",
              "  }\n",
              "\n",
              "  .colab-df-spinner {\n",
              "    border: 2px solid var(--fill-color);\n",
              "    border-color: transparent;\n",
              "    border-bottom-color: var(--fill-color);\n",
              "    animation:\n",
              "      spin 1s steps(1) infinite;\n",
              "  }\n",
              "\n",
              "  @keyframes spin {\n",
              "    0% {\n",
              "      border-color: transparent;\n",
              "      border-bottom-color: var(--fill-color);\n",
              "      border-left-color: var(--fill-color);\n",
              "    }\n",
              "    20% {\n",
              "      border-color: transparent;\n",
              "      border-left-color: var(--fill-color);\n",
              "      border-top-color: var(--fill-color);\n",
              "    }\n",
              "    30% {\n",
              "      border-color: transparent;\n",
              "      border-left-color: var(--fill-color);\n",
              "      border-top-color: var(--fill-color);\n",
              "      border-right-color: var(--fill-color);\n",
              "    }\n",
              "    40% {\n",
              "      border-color: transparent;\n",
              "      border-right-color: var(--fill-color);\n",
              "      border-top-color: var(--fill-color);\n",
              "    }\n",
              "    60% {\n",
              "      border-color: transparent;\n",
              "      border-right-color: var(--fill-color);\n",
              "    }\n",
              "    80% {\n",
              "      border-color: transparent;\n",
              "      border-right-color: var(--fill-color);\n",
              "      border-bottom-color: var(--fill-color);\n",
              "    }\n",
              "    90% {\n",
              "      border-color: transparent;\n",
              "      border-bottom-color: var(--fill-color);\n",
              "    }\n",
              "  }\n",
              "</style>\n",
              "\n",
              "  <script>\n",
              "    async function quickchart(key) {\n",
              "      const quickchartButtonEl =\n",
              "        document.querySelector('#' + key + ' button');\n",
              "      quickchartButtonEl.disabled = true;  // To prevent multiple clicks.\n",
              "      quickchartButtonEl.classList.add('colab-df-spinner');\n",
              "      try {\n",
              "        const charts = await google.colab.kernel.invokeFunction(\n",
              "            'suggestCharts', [key], {});\n",
              "      } catch (error) {\n",
              "        console.error('Error during call to suggestCharts:', error);\n",
              "      }\n",
              "      quickchartButtonEl.classList.remove('colab-df-spinner');\n",
              "      quickchartButtonEl.classList.add('colab-df-quickchart-complete');\n",
              "    }\n",
              "    (() => {\n",
              "      let quickchartButtonEl =\n",
              "        document.querySelector('#df-eec3df75-5f59-47c6-9bd5-4e81192ef85b button');\n",
              "      quickchartButtonEl.style.display =\n",
              "        google.colab.kernel.accessAllowed ? 'block' : 'none';\n",
              "    })();\n",
              "  </script>\n",
              "</div>\n",
              "\n",
              "    </div>\n",
              "  </div>\n"
            ],
            "application/vnd.google.colaboratory.intrinsic+json": {
              "type": "dataframe",
              "variable_name": "df",
              "summary": "{\n  \"name\": \"df\",\n  \"rows\": 1201,\n  \"fields\": [\n    {\n      \"column\": \"MSSubClass\",\n      \"properties\": {\n        \"dtype\": \"number\",\n        \"std\": 43,\n        \"min\": 20,\n        \"max\": 190,\n        \"num_unique_values\": 15,\n        \"samples\": [\n          80,\n          75,\n          60\n        ],\n        \"semantic_type\": \"\",\n        \"description\": \"\"\n      }\n    },\n    {\n      \"column\": \"MSZoning\",\n      \"properties\": {\n        \"dtype\": \"category\",\n        \"num_unique_values\": 5,\n        \"samples\": [\n          \"RM\",\n          \"RH\",\n          \"C (all)\"\n        ],\n        \"semantic_type\": \"\",\n        \"description\": \"\"\n      }\n    },\n    {\n      \"column\": \"LotFrontage\",\n      \"properties\": {\n        \"dtype\": \"number\",\n        \"std\": 24.284751774483208,\n        \"min\": 21.0,\n        \"max\": 313.0,\n        \"num_unique_values\": 110,\n        \"samples\": [\n          150.0,\n          91.0,\n          84.0\n        ],\n        \"semantic_type\": \"\",\n        \"description\": \"\"\n      }\n    },\n    {\n      \"column\": \"LotArea\",\n      \"properties\": {\n        \"dtype\": \"number\",\n        \"std\": 7924,\n        \"min\": 1300,\n        \"max\": 215245,\n        \"num_unique_values\": 869,\n        \"samples\": [\n          11198,\n          4500,\n          8544\n        ],\n        \"semantic_type\": \"\",\n        \"description\": \"\"\n      }\n    },\n    {\n      \"column\": \"Street\",\n      \"properties\": {\n        \"dtype\": \"category\",\n        \"num_unique_values\": 2,\n        \"samples\": [\n          \"Grvl\",\n          \"Pave\"\n        ],\n        \"semantic_type\": \"\",\n        \"description\": \"\"\n      }\n    },\n    {\n      \"column\": \"LotShape\",\n      \"properties\": {\n        \"dtype\": \"category\",\n        \"num_unique_values\": 4,\n        \"samples\": [\n          \"IR1\",\n          \"IR3\"\n        ],\n        \"semantic_type\": \"\",\n        \"description\": \"\"\n      }\n    },\n    {\n      \"column\": \"YearBuilt\",\n      \"properties\": {\n        \"dtype\": \"number\",\n        \"std\": 31,\n        \"min\": 1872,\n        \"max\": 2010,\n        \"num_unique_values\": 112,\n        \"samples\": [\n          1968,\n          1987\n        ],\n        \"semantic_type\": \"\",\n        \"description\": \"\"\n      }\n    },\n    {\n      \"column\": \"1stFlrSF\",\n      \"properties\": {\n        \"dtype\": \"number\",\n        \"std\": 386,\n        \"min\": 334,\n        \"max\": 4692,\n        \"num_unique_values\": 678,\n        \"samples\": [\n          1334,\n          2020\n        ],\n        \"semantic_type\": \"\",\n        \"description\": \"\"\n      }\n    },\n    {\n      \"column\": \"2ndFlrSF\",\n      \"properties\": {\n        \"dtype\": \"number\",\n        \"std\": 435,\n        \"min\": 0,\n        \"max\": 2065,\n        \"num_unique_values\": 368,\n        \"samples\": [\n          707,\n          639\n        ],\n        \"semantic_type\": \"\",\n        \"description\": \"\"\n      }\n    },\n    {\n      \"column\": \"SalePrice\",\n      \"properties\": {\n        \"dtype\": \"number\",\n        \"std\": 83389,\n        \"min\": 34900,\n        \"max\": 755000,\n        \"num_unique_values\": 597,\n        \"samples\": [\n          372402,\n          395192\n        ],\n        \"semantic_type\": \"\",\n        \"description\": \"\"\n      }\n    }\n  ]\n}"
            }
          },
          "metadata": {},
          "execution_count": 11
        }
      ]
    },
    {
      "cell_type": "code",
      "source": [
        "df.info()"
      ],
      "metadata": {
        "colab": {
          "base_uri": "https://localhost:8080/"
        },
        "id": "KhLZvUCh_pU6",
        "outputId": "1788b6f2-4574-4842-b18e-78cbb4987aa6"
      },
      "execution_count": 12,
      "outputs": [
        {
          "output_type": "stream",
          "name": "stdout",
          "text": [
            "<class 'pandas.core.frame.DataFrame'>\n",
            "Index: 1201 entries, 0 to 1459\n",
            "Data columns (total 10 columns):\n",
            " #   Column       Non-Null Count  Dtype  \n",
            "---  ------       --------------  -----  \n",
            " 0   MSSubClass   1201 non-null   int64  \n",
            " 1   MSZoning     1201 non-null   object \n",
            " 2   LotFrontage  1201 non-null   float64\n",
            " 3   LotArea      1201 non-null   int64  \n",
            " 4   Street       1201 non-null   object \n",
            " 5   LotShape     1201 non-null   object \n",
            " 6   YearBuilt    1201 non-null   int64  \n",
            " 7   1stFlrSF     1201 non-null   int64  \n",
            " 8   2ndFlrSF     1201 non-null   int64  \n",
            " 9   SalePrice    1201 non-null   int64  \n",
            "dtypes: float64(1), int64(6), object(3)\n",
            "memory usage: 103.2+ KB\n"
          ]
        }
      ]
    },
    {
      "cell_type": "code",
      "source": [
        "for i in df.columns:\n",
        "  print('Column name {} and unique values are {}'.format(i,len(df[i].unique())))"
      ],
      "metadata": {
        "colab": {
          "base_uri": "https://localhost:8080/"
        },
        "id": "UfWuWMCMBLvR",
        "outputId": "a171d559-313b-46b7-bdd1-d2f190a214cc"
      },
      "execution_count": 13,
      "outputs": [
        {
          "output_type": "stream",
          "name": "stdout",
          "text": [
            "Column name MSSubClass and unique values are 15\n",
            "Column name MSZoning and unique values are 5\n",
            "Column name LotFrontage and unique values are 110\n",
            "Column name LotArea and unique values are 869\n",
            "Column name Street and unique values are 2\n",
            "Column name LotShape and unique values are 4\n",
            "Column name YearBuilt and unique values are 112\n",
            "Column name 1stFlrSF and unique values are 678\n",
            "Column name 2ndFlrSF and unique values are 368\n",
            "Column name SalePrice and unique values are 597\n"
          ]
        }
      ]
    },
    {
      "cell_type": "code",
      "source": [
        "import datetime\n",
        "datetime.datetime.now().year"
      ],
      "metadata": {
        "colab": {
          "base_uri": "https://localhost:8080/"
        },
        "id": "luZwcS-0B14U",
        "outputId": "4b903ae9-9e46-40dc-9427-bb59f86cd4a8"
      },
      "execution_count": 14,
      "outputs": [
        {
          "output_type": "execute_result",
          "data": {
            "text/plain": [
              "2024"
            ]
          },
          "metadata": {},
          "execution_count": 14
        }
      ]
    },
    {
      "cell_type": "code",
      "source": [
        "df['Total Years']= datetime.datetime.now().year - df['YearBuilt']\n",
        "df.drop(\"YearBuilt\",axis=1,inplace=True)\n",
        "df.columns"
      ],
      "metadata": {
        "colab": {
          "base_uri": "https://localhost:8080/"
        },
        "id": "zSXwRALpCjRe",
        "outputId": "2bbd5bc5-3c9b-4555-8f55-5e2880ca9b29"
      },
      "execution_count": 15,
      "outputs": [
        {
          "output_type": "execute_result",
          "data": {
            "text/plain": [
              "Index(['MSSubClass', 'MSZoning', 'LotFrontage', 'LotArea', 'Street',\n",
              "       'LotShape', '1stFlrSF', '2ndFlrSF', 'SalePrice', 'Total Years'],\n",
              "      dtype='object')"
            ]
          },
          "metadata": {},
          "execution_count": 15
        }
      ]
    },
    {
      "cell_type": "markdown",
      "source": [
        "## Creating categorical features\n"
      ],
      "metadata": {
        "id": "rahZ2S8sc5I2"
      }
    },
    {
      "cell_type": "code",
      "source": [
        "cat_features = [\"MSSubClass\",\"MSZoning\",\"Street\",\"LotShape\"]\n",
        "output_featrure = \"SalePrice\""
      ],
      "metadata": {
        "id": "4acpuPqnDBJy"
      },
      "execution_count": 24,
      "outputs": []
    },
    {
      "cell_type": "code",
      "source": [
        "#Label Encoding of Categorical Features\n",
        "from sklearn.preprocessing import LabelEncoder\n",
        "lbl_encoders = {}\n",
        "\n",
        "for feature in cat_features:\n",
        "  lbl_encoders[feature]=LabelEncoder()\n",
        "  df[feature]=lbl_encoders[feature].fit_transform(df[feature])"
      ],
      "metadata": {
        "id": "dqs3Qf-yFC4M"
      },
      "execution_count": 31,
      "outputs": []
    },
    {
      "cell_type": "code",
      "source": [
        "df"
      ],
      "metadata": {
        "colab": {
          "base_uri": "https://localhost:8080/",
          "height": 461
        },
        "id": "8FeMt3btFMhU",
        "outputId": "b22726bd-7f71-46f8-f645-8ce90aa61c1c"
      },
      "execution_count": 32,
      "outputs": [
        {
          "output_type": "execute_result",
          "data": {
            "text/plain": [
              "      MSSubClass  MSZoning  LotFrontage  LotArea  Street  LotShape  1stFlrSF  \\\n",
              "0              5         3         65.0     8450       1         3       856   \n",
              "1              0         3         80.0     9600       1         3      1262   \n",
              "2              5         3         68.0    11250       1         0       920   \n",
              "3              6         3         60.0     9550       1         0       961   \n",
              "4              5         3         84.0    14260       1         0      1145   \n",
              "...          ...       ...          ...      ...     ...       ...       ...   \n",
              "1455           5         3         62.0     7917       1         3       953   \n",
              "1456           0         3         85.0    13175       1         3      2073   \n",
              "1457           6         3         66.0     9042       1         3      1188   \n",
              "1458           0         3         68.0     9717       1         3      1078   \n",
              "1459           0         3         75.0     9937       1         3      1256   \n",
              "\n",
              "      2ndFlrSF  SalePrice  Total Years  \n",
              "0          854     208500           21  \n",
              "1            0     181500           48  \n",
              "2          866     223500           23  \n",
              "3          756     140000          109  \n",
              "4         1053     250000           24  \n",
              "...        ...        ...          ...  \n",
              "1455       694     175000           25  \n",
              "1456         0     210000           46  \n",
              "1457      1152     266500           83  \n",
              "1458         0     142125           74  \n",
              "1459         0     147500           59  \n",
              "\n",
              "[1201 rows x 10 columns]"
            ],
            "text/html": [
              "\n",
              "  <div id=\"df-1a3014ff-1bc8-4e57-bb1b-1a840475b5b1\" class=\"colab-df-container\">\n",
              "    <div>\n",
              "<style scoped>\n",
              "    .dataframe tbody tr th:only-of-type {\n",
              "        vertical-align: middle;\n",
              "    }\n",
              "\n",
              "    .dataframe tbody tr th {\n",
              "        vertical-align: top;\n",
              "    }\n",
              "\n",
              "    .dataframe thead th {\n",
              "        text-align: right;\n",
              "    }\n",
              "</style>\n",
              "<table border=\"1\" class=\"dataframe\">\n",
              "  <thead>\n",
              "    <tr style=\"text-align: right;\">\n",
              "      <th></th>\n",
              "      <th>MSSubClass</th>\n",
              "      <th>MSZoning</th>\n",
              "      <th>LotFrontage</th>\n",
              "      <th>LotArea</th>\n",
              "      <th>Street</th>\n",
              "      <th>LotShape</th>\n",
              "      <th>1stFlrSF</th>\n",
              "      <th>2ndFlrSF</th>\n",
              "      <th>SalePrice</th>\n",
              "      <th>Total Years</th>\n",
              "    </tr>\n",
              "  </thead>\n",
              "  <tbody>\n",
              "    <tr>\n",
              "      <th>0</th>\n",
              "      <td>5</td>\n",
              "      <td>3</td>\n",
              "      <td>65.0</td>\n",
              "      <td>8450</td>\n",
              "      <td>1</td>\n",
              "      <td>3</td>\n",
              "      <td>856</td>\n",
              "      <td>854</td>\n",
              "      <td>208500</td>\n",
              "      <td>21</td>\n",
              "    </tr>\n",
              "    <tr>\n",
              "      <th>1</th>\n",
              "      <td>0</td>\n",
              "      <td>3</td>\n",
              "      <td>80.0</td>\n",
              "      <td>9600</td>\n",
              "      <td>1</td>\n",
              "      <td>3</td>\n",
              "      <td>1262</td>\n",
              "      <td>0</td>\n",
              "      <td>181500</td>\n",
              "      <td>48</td>\n",
              "    </tr>\n",
              "    <tr>\n",
              "      <th>2</th>\n",
              "      <td>5</td>\n",
              "      <td>3</td>\n",
              "      <td>68.0</td>\n",
              "      <td>11250</td>\n",
              "      <td>1</td>\n",
              "      <td>0</td>\n",
              "      <td>920</td>\n",
              "      <td>866</td>\n",
              "      <td>223500</td>\n",
              "      <td>23</td>\n",
              "    </tr>\n",
              "    <tr>\n",
              "      <th>3</th>\n",
              "      <td>6</td>\n",
              "      <td>3</td>\n",
              "      <td>60.0</td>\n",
              "      <td>9550</td>\n",
              "      <td>1</td>\n",
              "      <td>0</td>\n",
              "      <td>961</td>\n",
              "      <td>756</td>\n",
              "      <td>140000</td>\n",
              "      <td>109</td>\n",
              "    </tr>\n",
              "    <tr>\n",
              "      <th>4</th>\n",
              "      <td>5</td>\n",
              "      <td>3</td>\n",
              "      <td>84.0</td>\n",
              "      <td>14260</td>\n",
              "      <td>1</td>\n",
              "      <td>0</td>\n",
              "      <td>1145</td>\n",
              "      <td>1053</td>\n",
              "      <td>250000</td>\n",
              "      <td>24</td>\n",
              "    </tr>\n",
              "    <tr>\n",
              "      <th>...</th>\n",
              "      <td>...</td>\n",
              "      <td>...</td>\n",
              "      <td>...</td>\n",
              "      <td>...</td>\n",
              "      <td>...</td>\n",
              "      <td>...</td>\n",
              "      <td>...</td>\n",
              "      <td>...</td>\n",
              "      <td>...</td>\n",
              "      <td>...</td>\n",
              "    </tr>\n",
              "    <tr>\n",
              "      <th>1455</th>\n",
              "      <td>5</td>\n",
              "      <td>3</td>\n",
              "      <td>62.0</td>\n",
              "      <td>7917</td>\n",
              "      <td>1</td>\n",
              "      <td>3</td>\n",
              "      <td>953</td>\n",
              "      <td>694</td>\n",
              "      <td>175000</td>\n",
              "      <td>25</td>\n",
              "    </tr>\n",
              "    <tr>\n",
              "      <th>1456</th>\n",
              "      <td>0</td>\n",
              "      <td>3</td>\n",
              "      <td>85.0</td>\n",
              "      <td>13175</td>\n",
              "      <td>1</td>\n",
              "      <td>3</td>\n",
              "      <td>2073</td>\n",
              "      <td>0</td>\n",
              "      <td>210000</td>\n",
              "      <td>46</td>\n",
              "    </tr>\n",
              "    <tr>\n",
              "      <th>1457</th>\n",
              "      <td>6</td>\n",
              "      <td>3</td>\n",
              "      <td>66.0</td>\n",
              "      <td>9042</td>\n",
              "      <td>1</td>\n",
              "      <td>3</td>\n",
              "      <td>1188</td>\n",
              "      <td>1152</td>\n",
              "      <td>266500</td>\n",
              "      <td>83</td>\n",
              "    </tr>\n",
              "    <tr>\n",
              "      <th>1458</th>\n",
              "      <td>0</td>\n",
              "      <td>3</td>\n",
              "      <td>68.0</td>\n",
              "      <td>9717</td>\n",
              "      <td>1</td>\n",
              "      <td>3</td>\n",
              "      <td>1078</td>\n",
              "      <td>0</td>\n",
              "      <td>142125</td>\n",
              "      <td>74</td>\n",
              "    </tr>\n",
              "    <tr>\n",
              "      <th>1459</th>\n",
              "      <td>0</td>\n",
              "      <td>3</td>\n",
              "      <td>75.0</td>\n",
              "      <td>9937</td>\n",
              "      <td>1</td>\n",
              "      <td>3</td>\n",
              "      <td>1256</td>\n",
              "      <td>0</td>\n",
              "      <td>147500</td>\n",
              "      <td>59</td>\n",
              "    </tr>\n",
              "  </tbody>\n",
              "</table>\n",
              "<p>1201 rows × 10 columns</p>\n",
              "</div>\n",
              "    <div class=\"colab-df-buttons\">\n",
              "\n",
              "  <div class=\"colab-df-container\">\n",
              "    <button class=\"colab-df-convert\" onclick=\"convertToInteractive('df-1a3014ff-1bc8-4e57-bb1b-1a840475b5b1')\"\n",
              "            title=\"Convert this dataframe to an interactive table.\"\n",
              "            style=\"display:none;\">\n",
              "\n",
              "  <svg xmlns=\"http://www.w3.org/2000/svg\" height=\"24px\" viewBox=\"0 -960 960 960\">\n",
              "    <path d=\"M120-120v-720h720v720H120Zm60-500h600v-160H180v160Zm220 220h160v-160H400v160Zm0 220h160v-160H400v160ZM180-400h160v-160H180v160Zm440 0h160v-160H620v160ZM180-180h160v-160H180v160Zm440 0h160v-160H620v160Z\"/>\n",
              "  </svg>\n",
              "    </button>\n",
              "\n",
              "  <style>\n",
              "    .colab-df-container {\n",
              "      display:flex;\n",
              "      gap: 12px;\n",
              "    }\n",
              "\n",
              "    .colab-df-convert {\n",
              "      background-color: #E8F0FE;\n",
              "      border: none;\n",
              "      border-radius: 50%;\n",
              "      cursor: pointer;\n",
              "      display: none;\n",
              "      fill: #1967D2;\n",
              "      height: 32px;\n",
              "      padding: 0 0 0 0;\n",
              "      width: 32px;\n",
              "    }\n",
              "\n",
              "    .colab-df-convert:hover {\n",
              "      background-color: #E2EBFA;\n",
              "      box-shadow: 0px 1px 2px rgba(60, 64, 67, 0.3), 0px 1px 3px 1px rgba(60, 64, 67, 0.15);\n",
              "      fill: #174EA6;\n",
              "    }\n",
              "\n",
              "    .colab-df-buttons div {\n",
              "      margin-bottom: 4px;\n",
              "    }\n",
              "\n",
              "    [theme=dark] .colab-df-convert {\n",
              "      background-color: #3B4455;\n",
              "      fill: #D2E3FC;\n",
              "    }\n",
              "\n",
              "    [theme=dark] .colab-df-convert:hover {\n",
              "      background-color: #434B5C;\n",
              "      box-shadow: 0px 1px 3px 1px rgba(0, 0, 0, 0.15);\n",
              "      filter: drop-shadow(0px 1px 2px rgba(0, 0, 0, 0.3));\n",
              "      fill: #FFFFFF;\n",
              "    }\n",
              "  </style>\n",
              "\n",
              "    <script>\n",
              "      const buttonEl =\n",
              "        document.querySelector('#df-1a3014ff-1bc8-4e57-bb1b-1a840475b5b1 button.colab-df-convert');\n",
              "      buttonEl.style.display =\n",
              "        google.colab.kernel.accessAllowed ? 'block' : 'none';\n",
              "\n",
              "      async function convertToInteractive(key) {\n",
              "        const element = document.querySelector('#df-1a3014ff-1bc8-4e57-bb1b-1a840475b5b1');\n",
              "        const dataTable =\n",
              "          await google.colab.kernel.invokeFunction('convertToInteractive',\n",
              "                                                    [key], {});\n",
              "        if (!dataTable) return;\n",
              "\n",
              "        const docLinkHtml = 'Like what you see? Visit the ' +\n",
              "          '<a target=\"_blank\" href=https://colab.research.google.com/notebooks/data_table.ipynb>data table notebook</a>'\n",
              "          + ' to learn more about interactive tables.';\n",
              "        element.innerHTML = '';\n",
              "        dataTable['output_type'] = 'display_data';\n",
              "        await google.colab.output.renderOutput(dataTable, element);\n",
              "        const docLink = document.createElement('div');\n",
              "        docLink.innerHTML = docLinkHtml;\n",
              "        element.appendChild(docLink);\n",
              "      }\n",
              "    </script>\n",
              "  </div>\n",
              "\n",
              "\n",
              "<div id=\"df-cda58532-32d5-4971-8b6b-e56f48c07ad4\">\n",
              "  <button class=\"colab-df-quickchart\" onclick=\"quickchart('df-cda58532-32d5-4971-8b6b-e56f48c07ad4')\"\n",
              "            title=\"Suggest charts\"\n",
              "            style=\"display:none;\">\n",
              "\n",
              "<svg xmlns=\"http://www.w3.org/2000/svg\" height=\"24px\"viewBox=\"0 0 24 24\"\n",
              "     width=\"24px\">\n",
              "    <g>\n",
              "        <path d=\"M19 3H5c-1.1 0-2 .9-2 2v14c0 1.1.9 2 2 2h14c1.1 0 2-.9 2-2V5c0-1.1-.9-2-2-2zM9 17H7v-7h2v7zm4 0h-2V7h2v10zm4 0h-2v-4h2v4z\"/>\n",
              "    </g>\n",
              "</svg>\n",
              "  </button>\n",
              "\n",
              "<style>\n",
              "  .colab-df-quickchart {\n",
              "      --bg-color: #E8F0FE;\n",
              "      --fill-color: #1967D2;\n",
              "      --hover-bg-color: #E2EBFA;\n",
              "      --hover-fill-color: #174EA6;\n",
              "      --disabled-fill-color: #AAA;\n",
              "      --disabled-bg-color: #DDD;\n",
              "  }\n",
              "\n",
              "  [theme=dark] .colab-df-quickchart {\n",
              "      --bg-color: #3B4455;\n",
              "      --fill-color: #D2E3FC;\n",
              "      --hover-bg-color: #434B5C;\n",
              "      --hover-fill-color: #FFFFFF;\n",
              "      --disabled-bg-color: #3B4455;\n",
              "      --disabled-fill-color: #666;\n",
              "  }\n",
              "\n",
              "  .colab-df-quickchart {\n",
              "    background-color: var(--bg-color);\n",
              "    border: none;\n",
              "    border-radius: 50%;\n",
              "    cursor: pointer;\n",
              "    display: none;\n",
              "    fill: var(--fill-color);\n",
              "    height: 32px;\n",
              "    padding: 0;\n",
              "    width: 32px;\n",
              "  }\n",
              "\n",
              "  .colab-df-quickchart:hover {\n",
              "    background-color: var(--hover-bg-color);\n",
              "    box-shadow: 0 1px 2px rgba(60, 64, 67, 0.3), 0 1px 3px 1px rgba(60, 64, 67, 0.15);\n",
              "    fill: var(--button-hover-fill-color);\n",
              "  }\n",
              "\n",
              "  .colab-df-quickchart-complete:disabled,\n",
              "  .colab-df-quickchart-complete:disabled:hover {\n",
              "    background-color: var(--disabled-bg-color);\n",
              "    fill: var(--disabled-fill-color);\n",
              "    box-shadow: none;\n",
              "  }\n",
              "\n",
              "  .colab-df-spinner {\n",
              "    border: 2px solid var(--fill-color);\n",
              "    border-color: transparent;\n",
              "    border-bottom-color: var(--fill-color);\n",
              "    animation:\n",
              "      spin 1s steps(1) infinite;\n",
              "  }\n",
              "\n",
              "  @keyframes spin {\n",
              "    0% {\n",
              "      border-color: transparent;\n",
              "      border-bottom-color: var(--fill-color);\n",
              "      border-left-color: var(--fill-color);\n",
              "    }\n",
              "    20% {\n",
              "      border-color: transparent;\n",
              "      border-left-color: var(--fill-color);\n",
              "      border-top-color: var(--fill-color);\n",
              "    }\n",
              "    30% {\n",
              "      border-color: transparent;\n",
              "      border-left-color: var(--fill-color);\n",
              "      border-top-color: var(--fill-color);\n",
              "      border-right-color: var(--fill-color);\n",
              "    }\n",
              "    40% {\n",
              "      border-color: transparent;\n",
              "      border-right-color: var(--fill-color);\n",
              "      border-top-color: var(--fill-color);\n",
              "    }\n",
              "    60% {\n",
              "      border-color: transparent;\n",
              "      border-right-color: var(--fill-color);\n",
              "    }\n",
              "    80% {\n",
              "      border-color: transparent;\n",
              "      border-right-color: var(--fill-color);\n",
              "      border-bottom-color: var(--fill-color);\n",
              "    }\n",
              "    90% {\n",
              "      border-color: transparent;\n",
              "      border-bottom-color: var(--fill-color);\n",
              "    }\n",
              "  }\n",
              "</style>\n",
              "\n",
              "  <script>\n",
              "    async function quickchart(key) {\n",
              "      const quickchartButtonEl =\n",
              "        document.querySelector('#' + key + ' button');\n",
              "      quickchartButtonEl.disabled = true;  // To prevent multiple clicks.\n",
              "      quickchartButtonEl.classList.add('colab-df-spinner');\n",
              "      try {\n",
              "        const charts = await google.colab.kernel.invokeFunction(\n",
              "            'suggestCharts', [key], {});\n",
              "      } catch (error) {\n",
              "        console.error('Error during call to suggestCharts:', error);\n",
              "      }\n",
              "      quickchartButtonEl.classList.remove('colab-df-spinner');\n",
              "      quickchartButtonEl.classList.add('colab-df-quickchart-complete');\n",
              "    }\n",
              "    (() => {\n",
              "      let quickchartButtonEl =\n",
              "        document.querySelector('#df-cda58532-32d5-4971-8b6b-e56f48c07ad4 button');\n",
              "      quickchartButtonEl.style.display =\n",
              "        google.colab.kernel.accessAllowed ? 'block' : 'none';\n",
              "    })();\n",
              "  </script>\n",
              "</div>\n",
              "\n",
              "  <div id=\"id_6f53fc14-3edc-4d6d-83e2-f4b6333b5f2d\">\n",
              "    <style>\n",
              "      .colab-df-generate {\n",
              "        background-color: #E8F0FE;\n",
              "        border: none;\n",
              "        border-radius: 50%;\n",
              "        cursor: pointer;\n",
              "        display: none;\n",
              "        fill: #1967D2;\n",
              "        height: 32px;\n",
              "        padding: 0 0 0 0;\n",
              "        width: 32px;\n",
              "      }\n",
              "\n",
              "      .colab-df-generate:hover {\n",
              "        background-color: #E2EBFA;\n",
              "        box-shadow: 0px 1px 2px rgba(60, 64, 67, 0.3), 0px 1px 3px 1px rgba(60, 64, 67, 0.15);\n",
              "        fill: #174EA6;\n",
              "      }\n",
              "\n",
              "      [theme=dark] .colab-df-generate {\n",
              "        background-color: #3B4455;\n",
              "        fill: #D2E3FC;\n",
              "      }\n",
              "\n",
              "      [theme=dark] .colab-df-generate:hover {\n",
              "        background-color: #434B5C;\n",
              "        box-shadow: 0px 1px 3px 1px rgba(0, 0, 0, 0.15);\n",
              "        filter: drop-shadow(0px 1px 2px rgba(0, 0, 0, 0.3));\n",
              "        fill: #FFFFFF;\n",
              "      }\n",
              "    </style>\n",
              "    <button class=\"colab-df-generate\" onclick=\"generateWithVariable('df')\"\n",
              "            title=\"Generate code using this dataframe.\"\n",
              "            style=\"display:none;\">\n",
              "\n",
              "  <svg xmlns=\"http://www.w3.org/2000/svg\" height=\"24px\"viewBox=\"0 0 24 24\"\n",
              "       width=\"24px\">\n",
              "    <path d=\"M7,19H8.4L18.45,9,17,7.55,7,17.6ZM5,21V16.75L18.45,3.32a2,2,0,0,1,2.83,0l1.4,1.43a1.91,1.91,0,0,1,.58,1.4,1.91,1.91,0,0,1-.58,1.4L9.25,21ZM18.45,9,17,7.55Zm-12,3A5.31,5.31,0,0,0,4.9,8.1,5.31,5.31,0,0,0,1,6.5,5.31,5.31,0,0,0,4.9,4.9,5.31,5.31,0,0,0,6.5,1,5.31,5.31,0,0,0,8.1,4.9,5.31,5.31,0,0,0,12,6.5,5.46,5.46,0,0,0,6.5,12Z\"/>\n",
              "  </svg>\n",
              "    </button>\n",
              "    <script>\n",
              "      (() => {\n",
              "      const buttonEl =\n",
              "        document.querySelector('#id_6f53fc14-3edc-4d6d-83e2-f4b6333b5f2d button.colab-df-generate');\n",
              "      buttonEl.style.display =\n",
              "        google.colab.kernel.accessAllowed ? 'block' : 'none';\n",
              "\n",
              "      buttonEl.onclick = () => {\n",
              "        google.colab.notebook.generateWithVariable('df');\n",
              "      }\n",
              "      })();\n",
              "    </script>\n",
              "  </div>\n",
              "\n",
              "    </div>\n",
              "  </div>\n"
            ],
            "application/vnd.google.colaboratory.intrinsic+json": {
              "type": "dataframe",
              "variable_name": "df",
              "summary": "{\n  \"name\": \"df\",\n  \"rows\": 1201,\n  \"fields\": [\n    {\n      \"column\": \"MSSubClass\",\n      \"properties\": {\n        \"dtype\": \"number\",\n        \"std\": 4,\n        \"min\": 0,\n        \"max\": 14,\n        \"num_unique_values\": 15,\n        \"samples\": [\n          8,\n          7,\n          5\n        ],\n        \"semantic_type\": \"\",\n        \"description\": \"\"\n      }\n    },\n    {\n      \"column\": \"MSZoning\",\n      \"properties\": {\n        \"dtype\": \"number\",\n        \"std\": 0,\n        \"min\": 0,\n        \"max\": 4,\n        \"num_unique_values\": 5,\n        \"samples\": [\n          4,\n          2,\n          0\n        ],\n        \"semantic_type\": \"\",\n        \"description\": \"\"\n      }\n    },\n    {\n      \"column\": \"LotFrontage\",\n      \"properties\": {\n        \"dtype\": \"number\",\n        \"std\": 24.284751774483208,\n        \"min\": 21.0,\n        \"max\": 313.0,\n        \"num_unique_values\": 110,\n        \"samples\": [\n          150.0,\n          91.0,\n          84.0\n        ],\n        \"semantic_type\": \"\",\n        \"description\": \"\"\n      }\n    },\n    {\n      \"column\": \"LotArea\",\n      \"properties\": {\n        \"dtype\": \"number\",\n        \"std\": 7924,\n        \"min\": 1300,\n        \"max\": 215245,\n        \"num_unique_values\": 869,\n        \"samples\": [\n          11198,\n          4500,\n          8544\n        ],\n        \"semantic_type\": \"\",\n        \"description\": \"\"\n      }\n    },\n    {\n      \"column\": \"Street\",\n      \"properties\": {\n        \"dtype\": \"number\",\n        \"std\": 0,\n        \"min\": 0,\n        \"max\": 1,\n        \"num_unique_values\": 2,\n        \"samples\": [\n          0,\n          1\n        ],\n        \"semantic_type\": \"\",\n        \"description\": \"\"\n      }\n    },\n    {\n      \"column\": \"LotShape\",\n      \"properties\": {\n        \"dtype\": \"number\",\n        \"std\": 1,\n        \"min\": 0,\n        \"max\": 3,\n        \"num_unique_values\": 4,\n        \"samples\": [\n          0,\n          2\n        ],\n        \"semantic_type\": \"\",\n        \"description\": \"\"\n      }\n    },\n    {\n      \"column\": \"1stFlrSF\",\n      \"properties\": {\n        \"dtype\": \"number\",\n        \"std\": 386,\n        \"min\": 334,\n        \"max\": 4692,\n        \"num_unique_values\": 678,\n        \"samples\": [\n          1334,\n          2020\n        ],\n        \"semantic_type\": \"\",\n        \"description\": \"\"\n      }\n    },\n    {\n      \"column\": \"2ndFlrSF\",\n      \"properties\": {\n        \"dtype\": \"number\",\n        \"std\": 435,\n        \"min\": 0,\n        \"max\": 2065,\n        \"num_unique_values\": 368,\n        \"samples\": [\n          707,\n          639\n        ],\n        \"semantic_type\": \"\",\n        \"description\": \"\"\n      }\n    },\n    {\n      \"column\": \"SalePrice\",\n      \"properties\": {\n        \"dtype\": \"number\",\n        \"std\": 83389,\n        \"min\": 34900,\n        \"max\": 755000,\n        \"num_unique_values\": 597,\n        \"samples\": [\n          372402,\n          395192\n        ],\n        \"semantic_type\": \"\",\n        \"description\": \"\"\n      }\n    },\n    {\n      \"column\": \"Total Years\",\n      \"properties\": {\n        \"dtype\": \"number\",\n        \"std\": 31,\n        \"min\": 14,\n        \"max\": 152,\n        \"num_unique_values\": 112,\n        \"samples\": [\n          56,\n          37\n        ],\n        \"semantic_type\": \"\",\n        \"description\": \"\"\n      }\n    }\n  ]\n}"
            }
          },
          "metadata": {},
          "execution_count": 32
        }
      ]
    },
    {
      "cell_type": "markdown",
      "source": [
        "## Converting these categorical features to Tensors"
      ],
      "metadata": {
        "id": "OYA5FLZ1K5eX"
      }
    },
    {
      "cell_type": "code",
      "source": [
        "cat_features =  np.stack([df['MSSubClass'],df['MSZoning'],df['Street'],df['LotShape']],1)\n",
        "import torch\n",
        "cat_features = torch.tensor(cat_features,dtype=torch.int64)\n",
        "cat_features"
      ],
      "metadata": {
        "colab": {
          "base_uri": "https://localhost:8080/"
        },
        "id": "guAFfks8FSJU",
        "outputId": "ffb1a618-6824-404a-ae5e-f687a43fd305"
      },
      "execution_count": 35,
      "outputs": [
        {
          "output_type": "execute_result",
          "data": {
            "text/plain": [
              "tensor([[5, 3, 1, 3],\n",
              "        [0, 3, 1, 3],\n",
              "        [5, 3, 1, 0],\n",
              "        ...,\n",
              "        [6, 3, 1, 3],\n",
              "        [0, 3, 1, 3],\n",
              "        [0, 3, 1, 3]])"
            ]
          },
          "metadata": {},
          "execution_count": 35
        }
      ]
    },
    {
      "cell_type": "markdown",
      "source": [
        "## Creating continuous Variables"
      ],
      "metadata": {
        "id": "UfJZsTDcMG8d"
      }
    },
    {
      "cell_type": "code",
      "source": [
        "cont_features = []\n",
        "for i in df.columns:\n",
        "  if i in [\"MSSubClass\",\"MSZoning\",\"Street\",\"LotShape\",\"SalePrice\"]:\n",
        "    pass\n",
        "  else:\n",
        "    cont_features.append(i)"
      ],
      "metadata": {
        "id": "Hd_arZ5KLo5L"
      },
      "execution_count": 40,
      "outputs": []
    },
    {
      "cell_type": "code",
      "source": [
        "cont_features"
      ],
      "metadata": {
        "colab": {
          "base_uri": "https://localhost:8080/"
        },
        "id": "v59aYkgWMkPs",
        "outputId": "af513e9e-6225-4212-ca8d-e87d68bc3465"
      },
      "execution_count": 38,
      "outputs": [
        {
          "output_type": "execute_result",
          "data": {
            "text/plain": [
              "['LotFrontage', 'LotArea', '1stFlrSF', '2ndFlrSF', 'Total Years']"
            ]
          },
          "metadata": {},
          "execution_count": 38
        }
      ]
    },
    {
      "cell_type": "code",
      "source": [
        "## Converting these continuous variable into a tensor\n",
        "\n",
        "cont_values = np.stack([df[i].values for i in cont_features],1)\n",
        "cont_values = torch.tensor(cont_values,dtype=torch.float)\n",
        "cont_values"
      ],
      "metadata": {
        "colab": {
          "base_uri": "https://localhost:8080/"
        },
        "id": "ZRIp8qPxMphx",
        "outputId": "3fbd4861-f79f-4f67-9dfa-57bb6add25b9"
      },
      "execution_count": 41,
      "outputs": [
        {
          "output_type": "execute_result",
          "data": {
            "text/plain": [
              "tensor([[   65.,  8450.,   856.,   854.,    21.],\n",
              "        [   80.,  9600.,  1262.,     0.,    48.],\n",
              "        [   68., 11250.,   920.,   866.,    23.],\n",
              "        ...,\n",
              "        [   66.,  9042.,  1188.,  1152.,    83.],\n",
              "        [   68.,  9717.,  1078.,     0.,    74.],\n",
              "        [   75.,  9937.,  1256.,     0.,    59.]])"
            ]
          },
          "metadata": {},
          "execution_count": 41
        }
      ]
    },
    {
      "cell_type": "code",
      "source": [
        "cont_values.dtype"
      ],
      "metadata": {
        "colab": {
          "base_uri": "https://localhost:8080/"
        },
        "id": "i0DtCXl6NGcw",
        "outputId": "ba2efe31-7aa2-4c16-b3f9-98920c74da65"
      },
      "execution_count": 42,
      "outputs": [
        {
          "output_type": "execute_result",
          "data": {
            "text/plain": [
              "torch.float32"
            ]
          },
          "metadata": {},
          "execution_count": 42
        }
      ]
    },
    {
      "cell_type": "markdown",
      "source": [
        "## Creating Dependant features\n"
      ],
      "metadata": {
        "id": "nVxomgKidFyJ"
      }
    },
    {
      "cell_type": "code",
      "source": [
        "y = torch.tensor(df['SalePrice'].values,dtype=torch.float).reshape(-1,1)\n",
        "y"
      ],
      "metadata": {
        "colab": {
          "base_uri": "https://localhost:8080/"
        },
        "id": "3sr1DG_lNadV",
        "outputId": "28614552-0120-4b3e-e635-ad36cb5f91f6"
      },
      "execution_count": 43,
      "outputs": [
        {
          "output_type": "execute_result",
          "data": {
            "text/plain": [
              "tensor([[208500.],\n",
              "        [181500.],\n",
              "        [223500.],\n",
              "        ...,\n",
              "        [266500.],\n",
              "        [142125.],\n",
              "        [147500.]])"
            ]
          },
          "metadata": {},
          "execution_count": 43
        }
      ]
    },
    {
      "cell_type": "code",
      "source": [
        "df.info()"
      ],
      "metadata": {
        "colab": {
          "base_uri": "https://localhost:8080/"
        },
        "id": "2UOL95XydmYy",
        "outputId": "e81fdce4-adf1-4d69-f967-42a8650abc0c"
      },
      "execution_count": 44,
      "outputs": [
        {
          "output_type": "stream",
          "name": "stdout",
          "text": [
            "<class 'pandas.core.frame.DataFrame'>\n",
            "Index: 1201 entries, 0 to 1459\n",
            "Data columns (total 10 columns):\n",
            " #   Column       Non-Null Count  Dtype  \n",
            "---  ------       --------------  -----  \n",
            " 0   MSSubClass   1201 non-null   int64  \n",
            " 1   MSZoning     1201 non-null   int64  \n",
            " 2   LotFrontage  1201 non-null   float64\n",
            " 3   LotArea      1201 non-null   int64  \n",
            " 4   Street       1201 non-null   int64  \n",
            " 5   LotShape     1201 non-null   int64  \n",
            " 6   1stFlrSF     1201 non-null   int64  \n",
            " 7   2ndFlrSF     1201 non-null   int64  \n",
            " 8   SalePrice    1201 non-null   int64  \n",
            " 9   Total Years  1201 non-null   int64  \n",
            "dtypes: float64(1), int64(9)\n",
            "memory usage: 103.2 KB\n"
          ]
        }
      ]
    },
    {
      "cell_type": "markdown",
      "source": [
        "## Creting embedding dimensions on the categorical features"
      ],
      "metadata": {
        "id": "clNRGqrDhiw2"
      }
    },
    {
      "cell_type": "code",
      "source": [
        "cat_dimensions = [len(df[col].unique()) for col in ['MSSubClass','MSZoning','Street','LotShape']]\n",
        "cat_dimensions"
      ],
      "metadata": {
        "colab": {
          "base_uri": "https://localhost:8080/"
        },
        "id": "AMQXK6MAd39k",
        "outputId": "94997cd2-4289-486b-98b1-26767ff35284"
      },
      "execution_count": 46,
      "outputs": [
        {
          "output_type": "execute_result",
          "data": {
            "text/plain": [
              "[15, 5, 2, 4]"
            ]
          },
          "metadata": {},
          "execution_count": 46
        }
      ]
    },
    {
      "cell_type": "code",
      "source": [
        "embedding_dimensions = [(x, min(50, (x+1) // 2)) for x in cat_dimensions]\n",
        "embedding_dimensions"
      ],
      "metadata": {
        "colab": {
          "base_uri": "https://localhost:8080/"
        },
        "id": "ykmEC8w-e78m",
        "outputId": "491a4a7f-8c99-47ba-b5c2-597d0005e215"
      },
      "execution_count": 48,
      "outputs": [
        {
          "output_type": "execute_result",
          "data": {
            "text/plain": [
              "[(15, 8), (5, 3), (2, 1), (4, 2)]"
            ]
          },
          "metadata": {},
          "execution_count": 48
        }
      ]
    },
    {
      "cell_type": "markdown",
      "source": [
        "## Creating the embedding layers\n"
      ],
      "metadata": {
        "id": "WeNqpYywhv2A"
      }
    },
    {
      "cell_type": "code",
      "source": [
        "import torch\n",
        "import torch.nn as nn\n",
        "import torch.nn.functional as F\n",
        "embedding_representation  = nn.ModuleList([nn.Embedding(inp,out) for inp,out in embedding_dimensions])\n",
        "embedding_representation"
      ],
      "metadata": {
        "colab": {
          "base_uri": "https://localhost:8080/"
        },
        "id": "Nsi4Xmz8hdS-",
        "outputId": "1926fe2b-2739-49c2-f547-fa897eed8b3c"
      },
      "execution_count": 49,
      "outputs": [
        {
          "output_type": "execute_result",
          "data": {
            "text/plain": [
              "ModuleList(\n",
              "  (0): Embedding(15, 8)\n",
              "  (1): Embedding(5, 3)\n",
              "  (2): Embedding(2, 1)\n",
              "  (3): Embedding(4, 2)\n",
              ")"
            ]
          },
          "metadata": {},
          "execution_count": 49
        }
      ]
    },
    {
      "cell_type": "code",
      "source": [
        "cat_features"
      ],
      "metadata": {
        "colab": {
          "base_uri": "https://localhost:8080/"
        },
        "id": "rUPuReaNiz2H",
        "outputId": "36577005-cc49-40a4-dd3f-13f7c16768f6"
      },
      "execution_count": 50,
      "outputs": [
        {
          "output_type": "execute_result",
          "data": {
            "text/plain": [
              "tensor([[5, 3, 1, 3],\n",
              "        [0, 3, 1, 3],\n",
              "        [5, 3, 1, 0],\n",
              "        ...,\n",
              "        [6, 3, 1, 3],\n",
              "        [0, 3, 1, 3],\n",
              "        [0, 3, 1, 3]])"
            ]
          },
          "metadata": {},
          "execution_count": 50
        }
      ]
    },
    {
      "cell_type": "code",
      "source": [
        "pd.set_option('display.max_rows',500)\n",
        "embedding_values = []\n",
        "for i,e in enumerate(embedding_representation):\n",
        "  embedding_values.append(e(cat_features[:,i]))\n",
        "embedding_values"
      ],
      "metadata": {
        "colab": {
          "base_uri": "https://localhost:8080/"
        },
        "id": "jd8tLJm8i5JL",
        "outputId": "f0759557-90eb-46d9-c9b6-39578ce1b362"
      },
      "execution_count": 51,
      "outputs": [
        {
          "output_type": "execute_result",
          "data": {
            "text/plain": [
              "[tensor([[-0.5496,  0.3361, -0.4083,  ...,  0.2769,  0.0253, -1.3392],\n",
              "         [-0.1704, -1.0872, -1.1687,  ..., -0.7576, -0.6558,  0.4646],\n",
              "         [-0.5496,  0.3361, -0.4083,  ...,  0.2769,  0.0253, -1.3392],\n",
              "         ...,\n",
              "         [-0.3735, -0.0629,  0.4609,  ...,  0.1551,  1.1776,  0.8093],\n",
              "         [-0.1704, -1.0872, -1.1687,  ..., -0.7576, -0.6558,  0.4646],\n",
              "         [-0.1704, -1.0872, -1.1687,  ..., -0.7576, -0.6558,  0.4646]],\n",
              "        grad_fn=<EmbeddingBackward0>),\n",
              " tensor([[ 0.3580,  1.8547, -0.5400],\n",
              "         [ 0.3580,  1.8547, -0.5400],\n",
              "         [ 0.3580,  1.8547, -0.5400],\n",
              "         ...,\n",
              "         [ 0.3580,  1.8547, -0.5400],\n",
              "         [ 0.3580,  1.8547, -0.5400],\n",
              "         [ 0.3580,  1.8547, -0.5400]], grad_fn=<EmbeddingBackward0>),\n",
              " tensor([[1.6046],\n",
              "         [1.6046],\n",
              "         [1.6046],\n",
              "         ...,\n",
              "         [1.6046],\n",
              "         [1.6046],\n",
              "         [1.6046]], grad_fn=<EmbeddingBackward0>),\n",
              " tensor([[-0.7334,  1.8400],\n",
              "         [-0.7334,  1.8400],\n",
              "         [ 0.5046, -0.9751],\n",
              "         ...,\n",
              "         [-0.7334,  1.8400],\n",
              "         [-0.7334,  1.8400],\n",
              "         [-0.7334,  1.8400]], grad_fn=<EmbeddingBackward0>)]"
            ]
          },
          "metadata": {},
          "execution_count": 51
        }
      ]
    },
    {
      "cell_type": "code",
      "source": [
        "z = torch.cat(embedding_values,1)\n",
        "z"
      ],
      "metadata": {
        "colab": {
          "base_uri": "https://localhost:8080/"
        },
        "id": "O48WjynZkFzr",
        "outputId": "b22392c5-d0f6-4559-b107-5cd9bd42f020"
      },
      "execution_count": 52,
      "outputs": [
        {
          "output_type": "execute_result",
          "data": {
            "text/plain": [
              "tensor([[-0.5496,  0.3361, -0.4083,  ...,  1.6046, -0.7334,  1.8400],\n",
              "        [-0.1704, -1.0872, -1.1687,  ...,  1.6046, -0.7334,  1.8400],\n",
              "        [-0.5496,  0.3361, -0.4083,  ...,  1.6046,  0.5046, -0.9751],\n",
              "        ...,\n",
              "        [-0.3735, -0.0629,  0.4609,  ...,  1.6046, -0.7334,  1.8400],\n",
              "        [-0.1704, -1.0872, -1.1687,  ...,  1.6046, -0.7334,  1.8400],\n",
              "        [-0.1704, -1.0872, -1.1687,  ...,  1.6046, -0.7334,  1.8400]],\n",
              "       grad_fn=<CatBackward0>)"
            ]
          },
          "metadata": {},
          "execution_count": 52
        }
      ]
    },
    {
      "cell_type": "code",
      "source": [
        "dropout = nn.Dropout(0.4)\n",
        "final_embeddings = dropout(z)\n",
        "final_embeddings"
      ],
      "metadata": {
        "colab": {
          "base_uri": "https://localhost:8080/"
        },
        "id": "jqXMK4JlknO1",
        "outputId": "076743a7-180b-451c-dd9a-c8af7a07c4ff"
      },
      "execution_count": 53,
      "outputs": [
        {
          "output_type": "execute_result",
          "data": {
            "text/plain": [
              "tensor([[-0.0000,  0.0000, -0.0000,  ...,  2.6743, -1.2223,  3.0666],\n",
              "        [-0.2841, -0.0000, -0.0000,  ...,  2.6743, -1.2223,  3.0666],\n",
              "        [-0.0000,  0.0000, -0.6805,  ...,  2.6743,  0.0000, -1.6252],\n",
              "        ...,\n",
              "        [-0.6225, -0.0000,  0.0000,  ...,  2.6743, -0.0000,  0.0000],\n",
              "        [-0.0000, -1.8120, -0.0000,  ...,  0.0000, -0.0000,  0.0000],\n",
              "        [-0.0000, -0.0000, -0.0000,  ...,  2.6743, -1.2223,  0.0000]],\n",
              "       grad_fn=<MulBackward0>)"
            ]
          },
          "metadata": {},
          "execution_count": 53
        }
      ]
    },
    {
      "cell_type": "markdown",
      "source": [
        "## Creating the Feed Forward Neural Network"
      ],
      "metadata": {
        "id": "HCkWgdIMll5I"
      }
    },
    {
      "cell_type": "code",
      "source": [
        "class FeedForwardNN(nn.Module):\n",
        "\n",
        "  def __init__(self,embedding_dim,n_cont,out_sz,layers,p=0.5):\n",
        "    super().__init__()\n",
        "    self.emdeds = nn.ModuleList([nn.Embedding(inp,out) for inp,out in embedding_dim])\n",
        "    self.emb_drop = nn.Dropout(p)\n",
        "    self.bn_cont = nn.BatchNorm1d(n_cont)\n",
        "\n",
        "    layerlist=[]\n",
        "    n_emb = sum((out for inp,out in embedding_dim))\n",
        "    n_in = n_emb + n_cont\n",
        "    for i in layers:\n",
        "      layerlist.append(nn.Linear(n_in,i))\n",
        "      layerlist.append(nn.ReLU(inplace=True))\n",
        "      layerlist.append(nn.BatchNorm1d(i))\n",
        "      layerlist.append(nn.Dropout(p))\n",
        "      n_in = i\n",
        "    layerlist.append(nn.Linear(layers[-1],out_sz))\n",
        "\n",
        "    self.layers = nn.Sequential(*layerlist)\n",
        "\n",
        "  def forward(self,x_cat,x_cont):\n",
        "    embeddings = []\n",
        "    for i,e in enumerate(self.emdeds):\n",
        "      embeddings.append(e(x_cat[:,i]))\n",
        "    x = torch.cat(embeddings,1)\n",
        "    x = self.emb_drop(x)\n",
        "\n",
        "    x_cont = self.bn_cont(x_cont)\n",
        "    x = torch.cat([x,x_cont],1)\n",
        "    x = self.layers(x)\n",
        "    return x"
      ],
      "metadata": {
        "id": "Aye24efPlSSV"
      },
      "execution_count": 54,
      "outputs": []
    },
    {
      "cell_type": "code",
      "source": [
        "len(cont_features)"
      ],
      "metadata": {
        "colab": {
          "base_uri": "https://localhost:8080/"
        },
        "id": "CWmi2Q5Wonvk",
        "outputId": "d6501659-6b29-4104-d1bf-deedbd4a6cc1"
      },
      "execution_count": 55,
      "outputs": [
        {
          "output_type": "execute_result",
          "data": {
            "text/plain": [
              "5"
            ]
          },
          "metadata": {},
          "execution_count": 55
        }
      ]
    },
    {
      "cell_type": "code",
      "source": [
        "torch.manual_seed(100)\n",
        "model = FeedForwardNN(embedding_dimensions, len(cont_features),1,[100,50],p=0.4)"
      ],
      "metadata": {
        "id": "YxPVUMGLorP7"
      },
      "execution_count": 56,
      "outputs": []
    },
    {
      "cell_type": "code",
      "source": [
        "model"
      ],
      "metadata": {
        "colab": {
          "base_uri": "https://localhost:8080/"
        },
        "id": "VhEKj3l7o6Ac",
        "outputId": "6a588a08-6cec-45c2-94e0-3f0bd9c6b83a"
      },
      "execution_count": 57,
      "outputs": [
        {
          "output_type": "execute_result",
          "data": {
            "text/plain": [
              "FeedForwardNN(\n",
              "  (emdeds): ModuleList(\n",
              "    (0): Embedding(15, 8)\n",
              "    (1): Embedding(5, 3)\n",
              "    (2): Embedding(2, 1)\n",
              "    (3): Embedding(4, 2)\n",
              "  )\n",
              "  (emb_drop): Dropout(p=0.4, inplace=False)\n",
              "  (bn_cont): BatchNorm1d(5, eps=1e-05, momentum=0.1, affine=True, track_running_stats=True)\n",
              "  (layers): Sequential(\n",
              "    (0): Linear(in_features=19, out_features=100, bias=True)\n",
              "    (1): ReLU(inplace=True)\n",
              "    (2): BatchNorm1d(100, eps=1e-05, momentum=0.1, affine=True, track_running_stats=True)\n",
              "    (3): Dropout(p=0.4, inplace=False)\n",
              "    (4): Linear(in_features=100, out_features=50, bias=True)\n",
              "    (5): ReLU(inplace=True)\n",
              "    (6): BatchNorm1d(50, eps=1e-05, momentum=0.1, affine=True, track_running_stats=True)\n",
              "    (7): Dropout(p=0.4, inplace=False)\n",
              "    (8): Linear(in_features=50, out_features=1, bias=True)\n",
              "  )\n",
              ")"
            ]
          },
          "metadata": {},
          "execution_count": 57
        }
      ]
    },
    {
      "cell_type": "markdown",
      "source": [
        "## Defining the Loss and the Optimizer"
      ],
      "metadata": {
        "id": "phXRM_OqpLNr"
      }
    },
    {
      "cell_type": "code",
      "source": [
        "loss_function = nn.MSELoss()\n",
        "optimizer = torch.optim.Adam(model.parameters(),lr=0.01)"
      ],
      "metadata": {
        "id": "0IXK-vF-o7OX"
      },
      "execution_count": 58,
      "outputs": []
    },
    {
      "cell_type": "code",
      "source": [
        "df.shape"
      ],
      "metadata": {
        "colab": {
          "base_uri": "https://localhost:8080/"
        },
        "id": "uluNtSu7pSzF",
        "outputId": "733f38e3-dc7f-4ea7-9f1e-b64dfc9df4a1"
      },
      "execution_count": 59,
      "outputs": [
        {
          "output_type": "execute_result",
          "data": {
            "text/plain": [
              "(1201, 10)"
            ]
          },
          "metadata": {},
          "execution_count": 59
        }
      ]
    },
    {
      "cell_type": "code",
      "source": [
        "batch_size = 1200\n",
        "test_size = int(batch_size*0.15)\n",
        "#split for categorical features\n",
        "train_categorical = cat_features[:batch_size-test_size]\n",
        "test_categorical = cat_features[batch_size-test_size:batch_size]\n",
        "#split for continuous features\n",
        "train_continuous = cont_values[:batch_size-test_size]\n",
        "test_continuous = cont_values[batch_size-test_size:batch_size]\n",
        "train_y = y[:batch_size-test_size]\n",
        "test_y = y[batch_size-test_size:batch_size]\n"
      ],
      "metadata": {
        "id": "igfTtmC6pUsM"
      },
      "execution_count": 63,
      "outputs": []
    },
    {
      "cell_type": "code",
      "source": [
        "len(train_categorical), len(test_categorical),len(train_continuous),len(test_continuous),len(train_y),len(test_y)"
      ],
      "metadata": {
        "colab": {
          "base_uri": "https://localhost:8080/"
        },
        "id": "DCMBMMBmp5oK",
        "outputId": "071500b7-2976-46a7-faf4-86a6209f843d"
      },
      "execution_count": 62,
      "outputs": [
        {
          "output_type": "execute_result",
          "data": {
            "text/plain": [
              "(1020, 180, 1020, 180, 1020, 180)"
            ]
          },
          "metadata": {},
          "execution_count": 62
        }
      ]
    },
    {
      "cell_type": "code",
      "source": [
        "epochs = 5000\n",
        "final_loss = []\n",
        "for i in range(epochs):\n",
        "  i=i+1\n",
        "  y_pred = model(train_categorical,train_continuous)\n",
        "  loss = torch.sqrt(loss_function(y_pred,train_y))\n",
        "  final_loss.append(loss)\n",
        "  if i%100 == 1:\n",
        "    print(\"Epoch number {} and the loss {}\".format(i,loss.item()))\n",
        "  optimizer.zero_grad()\n",
        "  loss.backward()\n",
        "  optimizer.step()"
      ],
      "metadata": {
        "colab": {
          "base_uri": "https://localhost:8080/"
        },
        "id": "jglUq1AVqCvt",
        "outputId": "016f5396-c866-4192-9d85-5e258133bd01"
      },
      "execution_count": 64,
      "outputs": [
        {
          "output_type": "stream",
          "name": "stdout",
          "text": [
            "Epoch number 1 and the loss 200496.75\n",
            "Epoch number 101 and the loss 200355.234375\n",
            "Epoch number 201 and the loss 199882.578125\n",
            "Epoch number 301 and the loss 199026.359375\n",
            "Epoch number 401 and the loss 197880.46875\n",
            "Epoch number 501 and the loss 196433.1875\n",
            "Epoch number 601 and the loss 194524.546875\n",
            "Epoch number 701 and the loss 192295.09375\n",
            "Epoch number 801 and the loss 189862.234375\n",
            "Epoch number 901 and the loss 187453.25\n",
            "Epoch number 1001 and the loss 184305.921875\n",
            "Epoch number 1101 and the loss 181314.421875\n",
            "Epoch number 1201 and the loss 178094.046875\n",
            "Epoch number 1301 and the loss 174203.890625\n",
            "Epoch number 1401 and the loss 170483.765625\n",
            "Epoch number 1501 and the loss 166359.65625\n",
            "Epoch number 1601 and the loss 162409.46875\n",
            "Epoch number 1701 and the loss 157589.25\n",
            "Epoch number 1801 and the loss 153181.234375\n",
            "Epoch number 1901 and the loss 148561.421875\n",
            "Epoch number 2001 and the loss 144118.578125\n",
            "Epoch number 2101 and the loss 139330.375\n",
            "Epoch number 2201 and the loss 134155.21875\n",
            "Epoch number 2301 and the loss 128935.6796875\n",
            "Epoch number 2401 and the loss 124342.1640625\n",
            "Epoch number 2501 and the loss 119552.921875\n",
            "Epoch number 2601 and the loss 114303.8125\n",
            "Epoch number 2701 and the loss 109746.25\n",
            "Epoch number 2801 and the loss 103568.9453125\n",
            "Epoch number 2901 and the loss 98613.96875\n",
            "Epoch number 3001 and the loss 93849.421875\n",
            "Epoch number 3101 and the loss 89211.25\n",
            "Epoch number 3201 and the loss 84585.5\n",
            "Epoch number 3301 and the loss 79823.5390625\n",
            "Epoch number 3401 and the loss 74573.1328125\n",
            "Epoch number 3501 and the loss 68966.7109375\n",
            "Epoch number 3601 and the loss 64764.54296875\n",
            "Epoch number 3701 and the loss 59747.1796875\n",
            "Epoch number 3801 and the loss 55456.56640625\n",
            "Epoch number 3901 and the loss 52461.45703125\n",
            "Epoch number 4001 and the loss 48284.3125\n",
            "Epoch number 4101 and the loss 44483.8515625\n",
            "Epoch number 4201 and the loss 41807.15625\n",
            "Epoch number 4301 and the loss 39713.56640625\n",
            "Epoch number 4401 and the loss 37089.765625\n",
            "Epoch number 4501 and the loss 38415.82421875\n",
            "Epoch number 4601 and the loss 37444.90234375\n",
            "Epoch number 4701 and the loss 34631.0390625\n",
            "Epoch number 4801 and the loss 35037.4296875\n",
            "Epoch number 4901 and the loss 36376.82421875\n"
          ]
        }
      ]
    },
    {
      "cell_type": "code",
      "source": [
        "import matplotlib.pyplot as plt\n",
        "%matplotlib inline\n",
        "final_loss_array = np.array([loss.detach().numpy() for loss in final_loss])\n",
        "plt.plot(range(epochs),final_loss_array)\n",
        "plt.ylabel(\"Loss\")\n",
        "plt.xlabel(\"Epochs\")"
      ],
      "metadata": {
        "colab": {
          "base_uri": "https://localhost:8080/",
          "height": 466
        },
        "id": "yYSn77Tgqoy3",
        "outputId": "f8145e5f-b053-4de8-8ffa-41f4cba510f5"
      },
      "execution_count": 67,
      "outputs": [
        {
          "output_type": "execute_result",
          "data": {
            "text/plain": [
              "Text(0.5, 0, 'Epochs')"
            ]
          },
          "metadata": {},
          "execution_count": 67
        },
        {
          "output_type": "display_data",
          "data": {
            "text/plain": [
              "<Figure size 640x480 with 1 Axes>"
            ],
            "image/png": "[encoded data removed]"
          },
          "metadata": {}
        }
      ]
    },
    {
      "cell_type": "code",
      "source": [],
      "metadata": {
        "id": "25eBIsm9rC4B"
      },
      "execution_count": null,
      "outputs": []
    }
  ]
}